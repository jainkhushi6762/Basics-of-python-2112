{
  "nbformat": 4,
  "nbformat_minor": 0,
  "metadata": {
    "colab": {
      "provenance": []
    },
    "kernelspec": {
      "name": "python3",
      "display_name": "Python 3"
    },
    "language_info": {
      "name": "python"
    }
  },
  "cells": [
    {
      "cell_type": "markdown",
      "source": [
        "# ASSIGNMENT     (BASICS OF PYTHON )\n",
        "\n",
        "\n",
        "\n",
        "\n",
        "\n",
        "\n"
      ],
      "metadata": {
        "id": "VCbhqulk6gxO"
      }
    },
    {
      "cell_type": "markdown",
      "source": [
        "# ***Theory questions***"
      ],
      "metadata": {
        "id": "fcjGNtil6lyF"
      }
    },
    {
      "cell_type": "markdown",
      "source": [
        "1 . What is Python, and why is it popular ?\n",
        "\n",
        "ANS:- Python is a high level and interpreted programming launguage which is known for its readiability and versatility . It is widely used in web devlopment , data science , data analytics , artificial intelligence and more .It is popular because of its design which is easy to understand and write , making it a great choice for beginners and experiencied enginners . It has a lots of libraries and frameworks also i have huge active users/community ."
      ],
      "metadata": {
        "id": "xc1Qo3X96r13"
      }
    },
    {
      "cell_type": "markdown",
      "source": [
        "2 . What is an interpreter in Python?\n",
        "\n",
        "Ans:- An interpreter in Python is a program that directly executes code line by line, without first compiling it into machine code. It reads your Python code, translates it into instructions that the computer can understand, and then runs those instructions immediately."
      ],
      "metadata": {
        "id": "b3xaeB4u_hV8"
      }
    },
    {
      "cell_type": "markdown",
      "source": [
        "3 . What are pre-defined keywords in Python ?\n",
        "\n",
        "Ans:- In Python , some keywords are reserved that have their special meaning and they cannot be used as identifiers (such as variable names, function names, or class names) . They are fundamental to the language's syntax and semantics, dictating how your code is structured and executed.\n",
        "\n",
        "Example:-\n",
        "\n",
        "* True, False, None: Represent boolean values and the absence of a value, respectively.\n",
        "* if, else, elif: Used for conditional statements to control program flow."
      ],
      "metadata": {
        "id": "-mE006rDBme7"
      }
    },
    {
      "cell_type": "markdown",
      "source": [
        " 4 . Can keywords be used as variable names?\n",
        "\n",
        " Ans :- No, keywords in Python are reserved words with special meanings and cannot be used as variable names, function names, or class names. Using a keyword as an identifier will result in a SyntaxError."
      ],
      "metadata": {
        "id": "40XFQBEK9rg0"
      }
    },
    {
      "cell_type": "markdown",
      "source": [
        "5.What is mutability in Python ?\n",
        "\n",
        "Ans :- Mutable objects can be modified after creation. Examples include lists, dictionaries, and sets. When you modify a mutable object, you are changing the object in place. Mutability is important because it affects how objects are handled in assignments, function calls, and when used as keys in dictionaries or elements in sets."
      ],
      "metadata": {
        "id": "Q9AiUZf9-hoM"
      }
    },
    {
      "cell_type": "markdown",
      "source": [
        "6.Why are lists mutable, but tuples are immutable ?\n",
        "\n",
        "Ans :- Lists are mutable because their elements can be changed, added, or removed after the list is created. This is done by methods like append(), extend(), insert(), remove(), pop(), or by assigning new values to specific indices or slices.\n",
        "\n",
        "Tuples, on the other hand, are immutable. Once a tuple is created, you cannot change its elements, add new elements, or remove existing ones. This is a fundamental design choice in Python.\n",
        "\n",
        "This difference in mutability has implications for how they are used. Tuples are often used for data that should not be changed, such as coordinates or database records. Lists are used for collections where elements need to be added, removed, or modified frequently."
      ],
      "metadata": {
        "id": "b-Ovn4diA75C"
      }
    },
    {
      "cell_type": "markdown",
      "source": [
        "7.What is the difference between “==” and “is” operators in Python ?"
      ],
      "metadata": {
        "id": "Osl16-6jB_b4"
      }
    },
    {
      "cell_type": "markdown",
      "source": [
        "Ans:-  The == operator and the is operator serve different purposes when comparing objects:\n",
        "\n",
        "\n",
        "* \"==\" (Equality Operator): This operator compares the values of two objects. It checks if the content or state of the objects are equivalent.\n",
        "\n",
        "  EXAMPLE :\n",
        "\n",
        "      list1 = [1, 2, 3]\n",
        "      list2 = [1, 2, 3]\n",
        "      print(list1 == list2)  # Output: True (because their values are the same)\n",
        "\n",
        " * is (Identity Operator): This operator compares the identity of two objects. It checks if two variables refer to the exact same object in memory. In essence, it determines if they point to the same memory address.\n",
        "\n",
        "  EXAMPLE :\n",
        "\n",
        "      list1 = [1, 2, 3]\n",
        "      list2 = [1, 2, 3]\n",
        "      print(list1 is list2)  # Output: False (because they are distinct objects in memory, even if their values are the same)\n",
        "\n",
        "      list3 = list1\n",
        "      print(list1 is list3)  # Output: True (because list3 now refers to the same object as list1)\n",
        "\n",
        "\n",
        "* == compares values; is compares identities (memory locations).\n",
        "* Two objects can have equal values (== returns True) but be different objects in memory (is returns False).\n",
        "* If two objects are the same object in memory (is returns True), then their values will always be equal (== will also return True).\n",
        "* A common and recommended use case for is is when checking for None, as None is a singleton object . For example, if variable is None:."
      ],
      "metadata": {
        "id": "p18L1erkCQ6Q"
      }
    },
    {
      "cell_type": "markdown",
      "source": [
        "8.What are logical operators in Python?\n",
        "\n",
        "Ans:- Logical operators are used to combine conditional statements and evaluate expressions based on their truth values (True or False). They are fundamental for creating complex conditions and controlling program flow in decision-making structures like if statements. They are fundamental for creating complex conditions and controlling program flow in decision-making structures like if statements. Python has three main logical operators: and, or, and not."
      ],
      "metadata": {
        "id": "eTVkXRc0DDew"
      }
    },
    {
      "cell_type": "markdown",
      "source": [
        "9.What is type casting in Python ?\n",
        "\n",
        "\n",
        "\n",
        "ANS :-   Type casting  is the process of converting a variable or value from one data type to another. This is a fundamental concept in programming, as it allows for flexibility in data manipulation and ensures compatibility when performing operations that require specific data types."
      ],
      "metadata": {
        "id": "qRg27Q2jJRXd"
      }
    },
    {
      "cell_type": "markdown",
      "source": [
        "10 . What is the difference between implicit and explicit type casting ?\n",
        "\n",
        "Ans:- Implicit and explicit type casting (also known as type conversion) are two ways to convert a value from one data type to another in programming. Implicit type casting, or widening conversion, is done automatically by the compiler when it's safe and doesn't cause data loss. Explicit type casting, or narrowing conversion, is performed by the programmer using a cast operator (like (int)) to force a conversion, even if data loss might occur ."
      ],
      "metadata": {
        "id": "P7BOF-EoLifg"
      }
    },
    {
      "cell_type": "markdown",
      "source": [
        "11.What is the purpose of conditional statements in Python ?\n",
        "\n",
        "Ans :- The purpose of conditional statements in Python is to control the flow of execution in a program based on whether certain conditions are met. They enable a program to make decisions and perform different actions depending on the evaluation of specified conditions.the specific keywords used for conditional statements (if, elif, else)\n",
        "\n",
        "* if: This is the basic conditional statement. The code block following if only executes if the condition is true.\n",
        "* elif: This is short for \"else if\". It allows you to check additional conditions if the initial if condition is false. You can have multiple elif blocks.\n",
        "* else: This block of code executes if none of the preceding if or elif conditions are true."
      ],
      "metadata": {
        "id": "BadTYxadMYuo"
      }
    },
    {
      "cell_type": "markdown",
      "source": [
        "12 . How does the elif statement work ?\n",
        "\n",
        "Ans :- The elif (short for \"else if\") statement in Python is a conditional statement that allows you to specify multiple conditions to be evaluated sequentially after an initial if condition. It's used to control the flow of your program, executing different blocks of code based on various conditions\n",
        "\n",
        "If the if condition is False, the program then proceeds to the first elif statement. Its condition is evaluated. If this elif condition is True, its corresponding code block is executed, and the entire if-elif-else block is exited."
      ],
      "metadata": {
        "id": "51jrEx23N4sa"
      }
    },
    {
      "cell_type": "markdown",
      "source": [
        "13 . What is the difference between for and while loops ?\n",
        "\n",
        "ANS :- Both for and while loops are used for iteration (repeating a block of code) in Python, but they are typically used in different scenarios and have distinct structures:\n",
        "\n",
        "For Loop:\n",
        "\n",
        "Purpose:  A for loop is used for iterating over a sequence (like a list, tuple, string, or range) or other iterable objects. You use it when you know the number of iterations beforehand or when you want to process each item in a collection.\n",
        "\n",
        "Structure: It typically involves iterating over the elements of a sequence directly.\n",
        "\n",
        "Flow: The loop continues as long as there are items left in the sequence to process.\n",
        "\n",
        "\n",
        "While Loop:\n",
        "\n",
        "Purpose: A while loop is used to repeat a block of code as long as a certain condition is true. You use it when you don't know the exact number of iterations in advance and the loop should continue based on a condition.\n",
        "\n",
        "Structure: It requires a condition that is checked at the beginning of each iteration.\n",
        "\n",
        "Flow: The loop continues as long as the condition remains true. You need to ensure that the condition eventually becomes false to avoid an infinite loop.\n",
        "\n"
      ],
      "metadata": {
        "id": "UO_sfP0JPF8t"
      }
    },
    {
      "cell_type": "markdown",
      "source": [
        "14 .Describe a scenario where a while loop is more suitable than a for loop.\n",
        "\n",
        "ANS :- A while loop is more suitable than a for loop when you need to repeat a block of code as long as a certain condition is true, and you don't know in advance how many times the loop will need to run. The loop's termination depends on the condition changing during the loop's execution.\n",
        "\n",
        "Scenario: Reading data from a file until a specific marker is found.\n",
        "\n",
        "Imagine you are reading data from a file, and you need to process lines until you encounter a specific line that indicates the end of the data you're interested in (e.g., a line containing \"END_OF_DATA\"). You don't know how many lines are in the file before this marker.\n",
        "\n"
      ],
      "metadata": {
        "id": "MnB3mFQIPOr7"
      }
    },
    {
      "cell_type": "markdown",
      "source": [
        "# ***PRACTICAL QUESTIONS***"
      ],
      "metadata": {
        "id": "yuStQJxwPT9C"
      }
    },
    {
      "cell_type": "markdown",
      "source": [
        "1 . Write a Python program to print \"Hello, World \" ."
      ],
      "metadata": {
        "id": "yxeV0KcLQ1GO"
      }
    },
    {
      "cell_type": "code",
      "source": [
        "print(\"Hello, World\")"
      ],
      "metadata": {
        "colab": {
          "base_uri": "https://localhost:8080/"
        },
        "id": "nsVQGDUPRJAb",
        "outputId": "37cacc96-39ee-4f0d-ede9-d2d197f31401"
      },
      "execution_count": null,
      "outputs": [
        {
          "output_type": "stream",
          "name": "stdout",
          "text": [
            "Hello, World\n"
          ]
        }
      ]
    },
    {
      "cell_type": "markdown",
      "source": [
        "2 .Write a Python program that displays your name and age .\n",
        "\n"
      ],
      "metadata": {
        "id": "EoPkkcHBRRco"
      }
    },
    {
      "cell_type": "code",
      "source": [
        "name = input(\"Please enter your name: \")\n",
        "age = input(\"Please enter your age: \")\n",
        "print(\"Your name is:\", name)\n",
        "print(\"Your age is:\", age)"
      ],
      "metadata": {
        "colab": {
          "base_uri": "https://localhost:8080/"
        },
        "id": "U43Li8H7RVmP",
        "outputId": "e87631ee-b8c0-41a0-f2fd-0b94afba8464"
      },
      "execution_count": null,
      "outputs": [
        {
          "output_type": "stream",
          "name": "stdout",
          "text": [
            "Please enter your name: Khushi\n",
            "Please enter your age: 19\n",
            "Your name is: Khushi\n",
            "Your age is: 19\n"
          ]
        }
      ]
    },
    {
      "cell_type": "markdown",
      "source": [
        " 3 . Write code to print all the pre-defined keywords in Python using the keyword library ."
      ],
      "metadata": {
        "id": "ZDTpEVY6Rx-6"
      }
    },
    {
      "cell_type": "code",
      "source": [
        "help(\"keywords\")"
      ],
      "metadata": {
        "colab": {
          "base_uri": "https://localhost:8080/"
        },
        "id": "JxDqGPitSHBR",
        "outputId": "bcaf9aec-c753-4503-d5e3-c50f2c9e14b9"
      },
      "execution_count": null,
      "outputs": [
        {
          "output_type": "stream",
          "name": "stdout",
          "text": [
            "\n",
            "Here is a list of the Python keywords.  Enter any keyword to get more help.\n",
            "\n",
            "False               class               from                or\n",
            "None                continue            global              pass\n",
            "True                def                 if                  raise\n",
            "and                 del                 import              return\n",
            "as                  elif                in                  try\n",
            "assert              else                is                  while\n",
            "async               except              lambda              with\n",
            "await               finally             nonlocal            yield\n",
            "break               for                 not                 \n",
            "\n"
          ]
        }
      ]
    },
    {
      "cell_type": "markdown",
      "source": [
        "4 . Write a program that checks if a given word is a Python keyword."
      ],
      "metadata": {
        "id": "agx4YPOoSRif"
      }
    },
    {
      "cell_type": "code",
      "metadata": {
        "colab": {
          "base_uri": "https://localhost:8080/"
        },
        "id": "353cc1cb",
        "outputId": "24bfdd4f-5d8a-4035-acfd-d2f0e46428bf"
      },
      "source": [
        "import keyword\n",
        "word = input(\"Enter a word to check: \")\n",
        "if word in keyword.kwlist:\n",
        "  print(f\"'{word}' is a Python keyword.\")\n",
        "else:\n",
        "  print(f\"'{word}' is not a Python keyword.\")"
      ],
      "execution_count": null,
      "outputs": [
        {
          "output_type": "stream",
          "name": "stdout",
          "text": [
            "Enter a word to check: HELLO\n",
            "'HELLO' is not a Python keyword.\n"
          ]
        }
      ]
    },
    {
      "cell_type": "markdown",
      "source": [
        "5. Create a list and tuple in Python, and demonstrate how attempting to change an element works differently\n",
        "for each."
      ],
      "metadata": {
        "id": "9aBKKyrFvacT"
      }
    },
    {
      "cell_type": "code",
      "metadata": {
        "colab": {
          "base_uri": "https://localhost:8080/",
          "height": 245
        },
        "id": "f04a3a19",
        "outputId": "feca4bfd-36ce-480b-e6f8-e64627eaa4bf"
      },
      "source": [
        "my_list = [1, 2, 3, 4, 5] # Create a list\n",
        "print(\"Original list:\", my_list)\n",
        "my_list[2] = 10\n",
        "print(\"Modified list:\", my_list)\n",
        "# Create a tuple\n",
        "my_tuple = (1, 2, 3, 4, 5)\n",
        "print(\"Original tuple:\", my_tuple)\n",
        "my_tuple[2] = 10\n",
        "print(\"Modified tuple:\", my_tuple)"
      ],
      "execution_count": null,
      "outputs": [
        {
          "output_type": "stream",
          "name": "stdout",
          "text": [
            "Original list: [1, 2, 3, 4, 5]\n",
            "Modified list: [1, 2, 10, 4, 5]\n",
            "Original tuple: (1, 2, 3, 4, 5)\n"
          ]
        },
        {
          "output_type": "error",
          "ename": "TypeError",
          "evalue": "'tuple' object does not support item assignment",
          "traceback": [
            "\u001b[0;31m---------------------------------------------------------------------------\u001b[0m",
            "\u001b[0;31mTypeError\u001b[0m                                 Traceback (most recent call last)",
            "\u001b[0;32m/tmp/ipython-input-825315719.py\u001b[0m in \u001b[0;36m<cell line: 0>\u001b[0;34m()\u001b[0m\n\u001b[1;32m      6\u001b[0m \u001b[0mmy_tuple\u001b[0m \u001b[0;34m=\u001b[0m \u001b[0;34m(\u001b[0m\u001b[0;36m1\u001b[0m\u001b[0;34m,\u001b[0m \u001b[0;36m2\u001b[0m\u001b[0;34m,\u001b[0m \u001b[0;36m3\u001b[0m\u001b[0;34m,\u001b[0m \u001b[0;36m4\u001b[0m\u001b[0;34m,\u001b[0m \u001b[0;36m5\u001b[0m\u001b[0;34m)\u001b[0m\u001b[0;34m\u001b[0m\u001b[0;34m\u001b[0m\u001b[0m\n\u001b[1;32m      7\u001b[0m \u001b[0mprint\u001b[0m\u001b[0;34m(\u001b[0m\u001b[0;34m\"Original tuple:\"\u001b[0m\u001b[0;34m,\u001b[0m \u001b[0mmy_tuple\u001b[0m\u001b[0;34m)\u001b[0m\u001b[0;34m\u001b[0m\u001b[0;34m\u001b[0m\u001b[0m\n\u001b[0;32m----> 8\u001b[0;31m \u001b[0mmy_tuple\u001b[0m\u001b[0;34m[\u001b[0m\u001b[0;36m2\u001b[0m\u001b[0;34m]\u001b[0m \u001b[0;34m=\u001b[0m \u001b[0;36m10\u001b[0m\u001b[0;34m\u001b[0m\u001b[0;34m\u001b[0m\u001b[0m\n\u001b[0m\u001b[1;32m      9\u001b[0m \u001b[0mprint\u001b[0m\u001b[0;34m(\u001b[0m\u001b[0;34m\"Modified tuple:\"\u001b[0m\u001b[0;34m,\u001b[0m \u001b[0mmy_tuple\u001b[0m\u001b[0;34m)\u001b[0m\u001b[0;34m\u001b[0m\u001b[0;34m\u001b[0m\u001b[0m\n",
            "\u001b[0;31mTypeError\u001b[0m: 'tuple' object does not support item assignment"
          ]
        }
      ]
    },
    {
      "cell_type": "markdown",
      "source": [
        "6. Write a function to demonstrate the behavior of mutable and immutable arguments.\n"
      ],
      "metadata": {
        "id": "SukU_KNpxxYE"
      }
    },
    {
      "cell_type": "code",
      "metadata": {
        "colab": {
          "base_uri": "https://localhost:8080/"
        },
        "id": "0c2508e4",
        "outputId": "ef70609a-269a-4dc9-bf7d-07b81155362f"
      },
      "source": [
        "def demonstrate_mutable_immutable(mutable_arg, immutable_arg):\n",
        "  \"\"\"Demonstrates the behavior of mutable and immutable arguments.\"\"\"\n",
        "  print(\"Inside the function:\")\n",
        "  print(\"Mutable argument before modification:\", mutable_arg)\n",
        "  print(\"Immutable argument before modification:\", immutable_arg)\n",
        "  # Modify the mutable argument\n",
        "  mutable_arg.append(4)\n",
        "  print(\"Mutable argument after modification:\", mutable_arg)\n",
        "  # Attempt to modify the immutable argument (reassigning)\n",
        "  immutable_arg = immutable_arg + 1\n",
        "  print(\"Immutable argument after modification:\", immutable_arg)\n",
        "# --- Demonstrate with a list (mutable) and an integer (immutable) ---\n",
        "my_list = [1, 2, 3]\n",
        "my_integer = 10\n",
        "print(\"Outside the function before calling:\")\n",
        "print(\"Original list:\", my_list)\n",
        "print(\"Original integer:\", my_integer)\n",
        "demonstrate_mutable_immutable(my_list, my_integer)\n",
        "print(\"\\nOutside the function after calling:\")\n",
        "print(\"Original list:\", my_list) # The list is changed\n",
        "print(\"Original integer:\", my_integer) # The integer is NOT changed"
      ],
      "execution_count": null,
      "outputs": [
        {
          "output_type": "stream",
          "name": "stdout",
          "text": [
            "Outside the function before calling:\n",
            "Original list: [1, 2, 3]\n",
            "Original integer: 10\n",
            "Inside the function:\n",
            "Mutable argument before modification: [1, 2, 3]\n",
            "Immutable argument before modification: 10\n",
            "Mutable argument after modification: [1, 2, 3, 4]\n",
            "Immutable argument after modification: 11\n",
            "\n",
            "Outside the function after calling:\n",
            "Original list: [1, 2, 3, 4]\n",
            "Original integer: 10\n"
          ]
        }
      ]
    },
    {
      "cell_type": "markdown",
      "source": [
        " 7. Write a program that performs basic arithmetic operations on two user-input numbers."
      ],
      "metadata": {
        "id": "HByORYIvzZp8"
      }
    },
    {
      "cell_type": "code",
      "metadata": {
        "colab": {
          "base_uri": "https://localhost:8080/"
        },
        "id": "4ef5174b",
        "outputId": "0b9d2922-0476-41a9-e48b-3aec3377b671"
      },
      "source": [
        "# Get input from the user\n",
        "num1 = float(input(\"Enter the first number: \"))\n",
        "num2 = float(input(\"Enter the second number: \"))\n",
        "# Perform arithmetic operations\n",
        "sum_result = num1 + num2\n",
        "difference = num1 - num2\n",
        "product = num1 * num2\n",
        "division_result = num1 / num2\n",
        "print(f\"Sum: {sum_result}\")\n",
        "print(f\"Difference: {difference}\")\n",
        "print(f\"Product: {product}\")\n",
        "print(f\"Division: {division_result}\")"
      ],
      "execution_count": null,
      "outputs": [
        {
          "output_type": "stream",
          "name": "stdout",
          "text": [
            "Enter the first number: 34\n",
            "Enter the second number: 31\n",
            "Sum: 65.0\n",
            "Difference: 3.0\n",
            "Product: 1054.0\n",
            "Division: 1.096774193548387\n"
          ]
        }
      ]
    },
    {
      "cell_type": "markdown",
      "source": [
        "  8. Write a program to demonstrate the use of logical operators.\n",
        "  "
      ],
      "metadata": {
        "id": "of8u_wf40p4u"
      }
    },
    {
      "cell_type": "code",
      "metadata": {
        "colab": {
          "base_uri": "https://localhost:8080/"
        },
        "id": "2d0afee6",
        "outputId": "8d569213-2ec4-4974-e3f3-a0e9a391a895"
      },
      "source": [
        "# Demonstrate the 'and' operator\n",
        "print(\"Demonstrating 'and' operator:\")\n",
        "print(\"True and True:\", True and True)\n",
        "print(\"True and False:\", True and False)\n",
        "print(\"False and True:\", False and True)\n",
        "print(\"False and False:\", False and False)\n",
        "# Demonstrate the 'or' operator\n",
        "print(\"Demonstrating 'or' operator:\")\n",
        "print(\"True or True:\", True or True)\n",
        "print(\"True or False:\", True or False)\n",
        "print(\"False or True:\", False or True)\n",
        "print(\"False or False:\", False or False)\n",
        "# Demonstrate the 'not' operator\n",
        "print(\"Demonstrating 'not' operator:\")\n",
        "print(\"not True:\", not True)\n",
        "print(\"not False:\", not False)\n",
        "# Example with variables\n",
        "x = 10\n",
        "y = 5\n",
        "z = 15\n",
        "print(\"\\nDemonstrating with variables:\")\n",
        "print(f\"({x} > {y}) and ({z} > {x}):\", (x > y) and (z > x))\n",
        "print(f\"({x} < {y}) or ({z} > {x}):\", (x < y) or (z > x))\n",
        "print(f\"not ({x} == {y}):\", not (x == y))"
      ],
      "execution_count": null,
      "outputs": [
        {
          "output_type": "stream",
          "name": "stdout",
          "text": [
            "Demonstrating 'and' operator:\n",
            "True and True: True\n",
            "True and False: False\n",
            "False and True: False\n",
            "False and False: False\n",
            "Demonstrating 'or' operator:\n",
            "True or True: True\n",
            "True or False: True\n",
            "False or True: True\n",
            "False or False: False\n",
            "Demonstrating 'not' operator:\n",
            "not True: False\n",
            "not False: True\n",
            "\n",
            "Demonstrating with variables:\n",
            "(10 > 5) and (15 > 10): True\n",
            "(10 < 5) or (15 > 10): True\n",
            "not (10 == 5): True\n"
          ]
        }
      ]
    },
    {
      "cell_type": "markdown",
      "source": [
        " 9. Write a Python program to convert user input from string to integer, float, and boolean types."
      ],
      "metadata": {
        "id": "AOFo9HOa1onu"
      }
    },
    {
      "cell_type": "code",
      "metadata": {
        "colab": {
          "base_uri": "https://localhost:8080/"
        },
        "id": "2865970e",
        "outputId": "7999b699-1798-4283-952b-294fff2902c6"
      },
      "source": [
        "# Get input from the user\n",
        "X = input(\"Enter a value: \")\n",
        "# Convert to integer\n",
        "try:\n",
        "  y = int(X)\n",
        "  print(f\"\\nConverted to integer: {Y} (Type: {type(Y)})\")\n",
        "except ValueError:\n",
        "  print(f\"\\nCould not convert '{X}' to integer.\")\n",
        "\n",
        "# Convert to float\n",
        "try:\n",
        "  float_value = float(X)\n",
        "  print(f\"Converted to float: {float_value} (Type: {type(float_value)})\")\n",
        "except ValueError:\n",
        "  print(f\"Could not convert '{X}' to float.\")\n",
        "\n",
        "# Convert to boolean\n",
        "# The bool() function in Python considers empty strings, 0, None, empty lists, tuples, and dictionaries as False.\n",
        "# All other values are considered True.\n",
        "bool_value = bool(X)\n",
        "print(f\"Converted to boolean: {bool_value} (Type: {type(bool_value)})\")"
      ],
      "execution_count": null,
      "outputs": [
        {
          "output_type": "stream",
          "name": "stdout",
          "text": [
            "Enter a value: 25.67\n",
            "\n",
            "Could not convert '25.67' to integer.\n",
            "Converted to float: 25.67 (Type: <class 'float'>)\n",
            "Converted to boolean: True (Type: <class 'bool'>)\n"
          ]
        }
      ]
    },
    {
      "cell_type": "markdown",
      "source": [
        " 10. Write code to demonstrate type casting with list elements.\n"
      ],
      "metadata": {
        "id": "poIG576y29fz"
      }
    },
    {
      "cell_type": "code",
      "metadata": {
        "colab": {
          "base_uri": "https://localhost:8080/"
        },
        "id": "366904a2",
        "outputId": "7276e50a-fbd1-44ee-9be1-acc3e3b70d9a"
      },
      "source": [
        "# Create a list with elements of different data types\n",
        "my_list = [1, 2.5, True, \"hello\", [6, 7], (8, 9)]\n",
        "print(\"Original list:\", my_list)\n",
        "# Demonstrate type casting by converting elements to strings\n",
        "casted_list_to_strings = []\n",
        "for element in my_list:\n",
        "  casted_list_to_strings.append(str(element))\n",
        "print(\"List with elements casted to strings:\", casted_list_to_strings)\n",
        "# Demonstrate casting a specific element (if possible)\n",
        "# Let's try to cast the integer element at index 0 to a float\n",
        "try:\n",
        "  int_element = my_list[0]\n",
        "  casted_float_element = float(int_element)\n",
        "  print(f\"\\nCasted integer element ({int_element}) to float: {casted_float_element} (Type: {type(casted_float_element)})\")\n",
        "except (ValueError, TypeError) as e:\n",
        "  print(f\"\\nCould not cast element at index 0 to float: {e}\")\n",
        "# Let's try to cast the float element at index 1 to an integer\n",
        "try:\n",
        "  float_element = my_list[1]\n",
        "  casted_int_element = int(float_element)\n",
        "  print(f\"Casted float element ({float_element}) to integer: {casted_int_element} (Type: {type(casted_int_element)})\")\n",
        "except (ValueError, TypeError) as e:\n",
        "  print(f\"Could not cast element at index 1 to integer: {e}\")\n",
        "# Let's try to cast the string element at index 3 to an integer (will likely fail)\n",
        "try:\n",
        "  string_element = my_list[3]\n",
        "  casted_int_from_string = int(string_element)\n",
        "  print(f\"Casted string element ('{string_element}') to integer: {casted_int_from_string} (Type: {type(casted_int_from_string)})\")\n",
        "except (ValueError, TypeError) as e:\n",
        "  print(f\"Could not cast element at index 3 to integer: {e}\")"
      ],
      "execution_count": null,
      "outputs": [
        {
          "output_type": "stream",
          "name": "stdout",
          "text": [
            "Original list: [1, 2.5, True, 'hello', [6, 7], (8, 9)]\n",
            "List with elements casted to strings: ['1', '2.5', 'True', 'hello', '[6, 7]', '(8, 9)']\n",
            "\n",
            "Casted integer element (1) to float: 1.0 (Type: <class 'float'>)\n",
            "Casted float element (2.5) to integer: 2 (Type: <class 'int'>)\n",
            "Could not cast element at index 3 to integer: invalid literal for int() with base 10: 'hello'\n"
          ]
        }
      ]
    },
    {
      "cell_type": "markdown",
      "source": [
        "  11. Write a program that checks if a number is positive, negative, or zero ."
      ],
      "metadata": {
        "id": "ox8EPw3X3pam"
      }
    },
    {
      "cell_type": "code",
      "metadata": {
        "colab": {
          "base_uri": "https://localhost:8080/"
        },
        "id": "544300e2",
        "outputId": "79a91263-1ce9-4709-8d01-078368f318f5"
      },
      "source": [
        "num = float(input(\"Enter a number: \"))\n",
        "# Check if the number is positive, negative, or zero\n",
        "if num > 0:\n",
        "  print(f\"The number {num} is positive.\")\n",
        "elif num < 0:\n",
        "  print(f\"The number {num} is negative.\")\n",
        "else:\n",
        "  print(f\"The number {num} is zero.\")"
      ],
      "execution_count": null,
      "outputs": [
        {
          "output_type": "stream",
          "name": "stdout",
          "text": [
            "Enter a number: 65\n",
            "The number 65.0 is positive.\n"
          ]
        }
      ]
    },
    {
      "cell_type": "markdown",
      "source": [
        " 12. Write a for loop to print numbers from 1 to 10.\n"
      ],
      "metadata": {
        "id": "Azsce_Cc4lde"
      }
    },
    {
      "cell_type": "code",
      "metadata": {
        "colab": {
          "base_uri": "https://localhost:8080/"
        },
        "id": "c3236ea6",
        "outputId": "19a36642-16d4-4c24-f0a5-005752ec75bf"
      },
      "source": [
        "for i in range(1, 11):\n",
        "  print(i)"
      ],
      "execution_count": null,
      "outputs": [
        {
          "output_type": "stream",
          "name": "stdout",
          "text": [
            "1\n",
            "2\n",
            "3\n",
            "4\n",
            "5\n",
            "6\n",
            "7\n",
            "8\n",
            "9\n",
            "10\n"
          ]
        }
      ]
    },
    {
      "cell_type": "markdown",
      "source": [
        " 13. Write a Python program to find the sum of all even numbers between 1 and 50."
      ],
      "metadata": {
        "id": "avFrs-Ke40rQ"
      }
    },
    {
      "cell_type": "code",
      "metadata": {
        "colab": {
          "base_uri": "https://localhost:8080/"
        },
        "id": "1f56aff0",
        "outputId": "d90d980c-3e44-483f-e403-2d56a4ea5620"
      },
      "source": [
        "# Initialize the sum\n",
        "even_sum = 0\n",
        "# Iterate through numbers from 1 to 50\n",
        "for number in range(1, 51):\n",
        "  # Check if the number is even\n",
        "  if number % 2 == 0:\n",
        "    # Add the even number to the sum\n",
        "    even_sum += number\n",
        "# Print the final sum\n",
        "print(f\"The sum of all even numbers between 1 and 50 is: {even_sum}\")"
      ],
      "execution_count": null,
      "outputs": [
        {
          "output_type": "stream",
          "name": "stdout",
          "text": [
            "The sum of all even numbers between 1 and 50 is: 650\n"
          ]
        }
      ]
    },
    {
      "cell_type": "markdown",
      "source": [
        "14. Write a program to reverse a string using a while loop."
      ],
      "metadata": {
        "id": "i_51TVyg5Dqh"
      }
    },
    {
      "cell_type": "code",
      "metadata": {
        "colab": {
          "base_uri": "https://localhost:8080/"
        },
        "id": "6a948aa1",
        "outputId": "053eabeb-0cab-4382-cddf-ba93c80528b7"
      },
      "source": [
        "# Get input from the user\n",
        "input_string = input(\"Enter a string to reverse: \")\n",
        "# Initialize an empty string to store the reversed string\n",
        "reversed_string = \"\"\n",
        "# Get the index of the last character\n",
        "index = len(input_string) - 1\n",
        "# Use a while loop to iterate through the string from end to beginning\n",
        "while index >= 0:\n",
        "  reversed_string += input_string[index]\n",
        "  index -= 1\n",
        "# Print the reversed string\n",
        "print(\"Reversed string:\", reversed_string)"
      ],
      "execution_count": null,
      "outputs": [
        {
          "output_type": "stream",
          "name": "stdout",
          "text": [
            "Enter a string to reverse: Hello , My name is Khushi.\n",
            "Reversed string: .ihsuhK si eman yM , olleH\n"
          ]
        }
      ]
    },
    {
      "cell_type": "markdown",
      "source": [
        " 15. Write a Python program to calculate the factorial of a number provided by the user using a while loop."
      ],
      "metadata": {
        "id": "vvcQ6LQV5n1G"
      }
    },
    {
      "cell_type": "code",
      "metadata": {
        "colab": {
          "base_uri": "https://localhost:8080/"
        },
        "id": "4c57d0c6",
        "outputId": "148df79c-1c06-4116-ebe3-1742202cb881"
      },
      "source": [
        "# Get input from the user\n",
        "num = int(input(\"Enter a non-negative integer to calculate its factorial: \"))\n",
        "# Check if the number is negative\n",
        "if num < 0:\n",
        "  print(\"Factorial is not defined for negative numbers.\")\n",
        "elif num == 0:\n",
        "  print(\"The factorial of 0 is 1.\")\n",
        "else:\n",
        "  # Initialize factorial and a counter\n",
        "  factorial = 1\n",
        "  count = 1\n",
        "  # Use a while loop to calculate the factorial\n",
        "  while count <= num:\n",
        "    factorial *= count\n",
        "    count += 1\n",
        "  print(f\"The factorial of {num} is: {factorial}\")"
      ],
      "execution_count": null,
      "outputs": [
        {
          "output_type": "stream",
          "name": "stdout",
          "text": [
            "Enter a non-negative integer to calculate its factorial: 11\n",
            "The factorial of 11 is: 39916800\n"
          ]
        }
      ]
    }
  ]
}